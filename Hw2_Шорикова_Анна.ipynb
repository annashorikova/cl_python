{
  "nbformat": 4,
  "nbformat_minor": 0,
  "metadata": {
    "colab": {
      "provenance": [],
      "include_colab_link": true
    },
    "kernelspec": {
      "name": "python3",
      "display_name": "Python 3"
    },
    "language_info": {
      "name": "python"
    }
  },
  "cells": [
    {
      "cell_type": "markdown",
      "metadata": {
        "id": "view-in-github",
        "colab_type": "text"
      },
      "source": [
        "<a href=\"https://colab.research.google.com/github/annashorikova/cl_python/blob/main/Hw2_%D0%A8%D0%BE%D1%80%D0%B8%D0%BA%D0%BE%D0%B2%D0%B0_%D0%90%D0%BD%D0%BD%D0%B0.ipynb\" target=\"_parent\"><img src=\"https://colab.research.google.com/assets/colab-badge.svg\" alt=\"Open In Colab\"/></a>"
      ]
    },
    {
      "cell_type": "markdown",
      "source": [
        "# Домашнее задание 2\n",
        "\n",
        "## pandas + парсинг\n",
        "\n",
        "Здесь находится главная страница [Системного блока](https://sysblok.ru)\n",
        "\n",
        "Соберите корпус новостей (можно спарсить все новости или небольшую часть)\n",
        "\n",
        "Дедлайн: 31 декабря включительно"
      ],
      "metadata": {
        "id": "gWKJuEre_u-N"
      }
    },
    {
      "cell_type": "code",
      "execution_count": null,
      "metadata": {
        "id": "pSRHGrfg_dpE"
      },
      "outputs": [],
      "source": [
        "# необходимые импорты\n",
        "import requests as rq\n",
        "from bs4 import BeautifulSoup\n",
        "import pandas as pd"
      ]
    },
    {
      "cell_type": "markdown",
      "source": [
        "### шаг 1"
      ],
      "metadata": {
        "id": "F-WJ-h_PA9Bf"
      }
    },
    {
      "cell_type": "code",
      "source": [
        "# соберите все ссылки на страницы с новостями (цикл for + range)\n",
        "# 1 страница: https://sysblok.ru\n",
        "# 2 страница: https://sysblok.ru/page/2\n",
        "# последняя: https://sysblok.ru/page/16\n",
        "\n",
        "all_page = ['https://sysblok.ru']\n",
        "for i in range(2, 17):\n",
        "  all_page.append('https://sysblok.ru/page/' + str(i))\n",
        "print(all_page)"
      ],
      "metadata": {
        "id": "1EZIxFPfAeV3"
      },
      "execution_count": null,
      "outputs": []
    },
    {
      "cell_type": "markdown",
      "source": [
        "### шаг 2"
      ],
      "metadata": {
        "id": "XeIBEKGyA-pn"
      }
    },
    {
      "cell_type": "code",
      "source": [
        "# с каждой страницы соберите ссылки на отдельные новости\n",
        "# подсказка: родительский тег h2 (проверяйте по нему), нужный нам - a\n",
        "\n",
        "all_links = []\n",
        "for i in all_page:\n",
        "  page = rq.get(i)\n",
        "  page.encoding = 'utf-8'\n",
        "  soup = BeautifulSoup(page.text, features=\"html.parser\")\n",
        "  for i in soup.find_all('a'):\n",
        "    if i.parent.name == 'h2':\n",
        "      all_links.append(i.get('href'))"
      ],
      "metadata": {
        "id": "x9ti7TfWA7VN"
      },
      "execution_count": 94,
      "outputs": []
    },
    {
      "cell_type": "markdown",
      "source": [
        "### шаг 3\n",
        "\n",
        "работаем с 1 новостью:\n",
        "\n",
        "нас интересует название, автор, дата публикации, текст (дополнительно можно спарсить тематические категории)"
      ],
      "metadata": {
        "id": "tMfZa9Y-Bbtn"
      }
    },
    {
      "cell_type": "code",
      "source": [
        "# для парсинга даты: извлеките текст из тега time\n",
        "\n",
        "print(BeautifulSoup(rq.get(all_links[0]).text, features=\"html.parser\").find('time').text)"
      ],
      "metadata": {
        "id": "8bFB7G4uB6b3",
        "colab": {
          "base_uri": "https://localhost:8080/"
        },
        "outputId": "686003aa-d4ed-42f0-8114-5450c66a1adb"
      },
      "execution_count": null,
      "outputs": [
        {
          "output_type": "stream",
          "name": "stdout",
          "text": [
            "29.12.2023\n"
          ]
        }
      ]
    },
    {
      "cell_type": "code",
      "source": [
        "# для парсинга заголовка: извлеките текст из тега h1\n",
        "\n",
        "print(BeautifulSoup(rq.get(all_links[0]).text, features=\"html.parser\").find('h1').text)"
      ],
      "metadata": {
        "id": "sWIRCUdMCAOx",
        "colab": {
          "base_uri": "https://localhost:8080/"
        },
        "outputId": "188d0496-c7d7-474b-8035-771c2f3972c1"
      },
      "execution_count": null,
      "outputs": [
        {
          "output_type": "stream",
          "name": "stdout",
          "text": [
            "Что читают на программе по Digital Humanities? Выбор преподавателей DH-центра ИТМО\n"
          ]
        }
      ]
    },
    {
      "cell_type": "code",
      "source": [
        "# для парсинга текста: соберите все тексты из тега p и соедините в строку\n",
        "\n",
        "article_text = ''\n",
        "for i in BeautifulSoup(rq.get(all_links[0]).text, features=\"html.parser\").find_all('p'):\n",
        "    article_text += i.text.strip()\n",
        "print(article_text)"
      ],
      "metadata": {
        "id": "ZbJx5m49CCrd"
      },
      "execution_count": null,
      "outputs": []
    },
    {
      "cell_type": "code",
      "source": [
        "# автора собрать сложнее:\n",
        "# достаем из тега meta как на паре или из тега a с проверкой на содержимое атрибута rel\n",
        "\n",
        "print(BeautifulSoup(rq.get(all_links[0]).text, features=\"html.parser\").find_all('meta', {'name' : 'author'})[0].attrs['content'].split(','))"
      ],
      "metadata": {
        "id": "ZId6Z8_hCUXm",
        "colab": {
          "base_uri": "https://localhost:8080/"
        },
        "outputId": "4219154f-e38d-443e-a590-5527ada01e8a"
      },
      "execution_count": null,
      "outputs": [
        {
          "output_type": "stream",
          "name": "stdout",
          "text": [
            "['DH Center ITMO University', ' Вика Книппер']\n"
          ]
        }
      ]
    },
    {
      "cell_type": "code",
      "source": [
        "# тематические категории:\n",
        "# <a <a rel= tag\"> нужные нам категории </a>\n",
        "# можно попробовать так:\n",
        "# if i.get('rel') == ['category', 'tag']\n",
        "\n",
        "category = []\n",
        "for i in BeautifulSoup(rq.get(all_links[0]).text, features=\"html.parser\").find_all('a'):\n",
        "  if i.get('rel') == ['category', 'tag']:\n",
        "    category.append(i.text)\n"
      ],
      "metadata": {
        "id": "l5mSYWsPCoBJ",
        "colab": {
          "base_uri": "https://localhost:8080/"
        },
        "outputId": "d1920614-6724-4c6b-e7d0-a23c788d52b4"
      },
      "execution_count": null,
      "outputs": [
        {
          "output_type": "stream",
          "name": "stdout",
          "text": [
            "['Блог DH ИТМО', 'Блоги']\n"
          ]
        }
      ]
    },
    {
      "cell_type": "markdown",
      "source": [
        "### шаг 4"
      ],
      "metadata": {
        "id": "_Si6KFXkDV9d"
      }
    },
    {
      "cell_type": "code",
      "source": [
        "# пишем функцию по сбору информации\n",
        "# функция собирает всю информацию о статье, которую мы находили ранее, в список\n",
        "\n",
        "def article_data(article):\n",
        "  # в этот список будем собирать все данные по статье\n",
        "  data = []\n",
        "\n",
        "  # добавляем ссылку на статью\n",
        "  data.append(article)\n",
        "\n",
        "  # добавляем дату\n",
        "  data.append(BeautifulSoup(rq.get(article).text, features=\"html.parser\").find('time').text)\n",
        "\n",
        "  # добавляем заголовок\n",
        "  data.append(BeautifulSoup(rq.get(article).text, features=\"html.parser\").find('h1').text)\n",
        "\n",
        "  # добавляем список авторов\n",
        "  data.append(BeautifulSoup(rq.get(article).text, features=\"html.parser\").find_all('meta', {'name' : 'author'})[0].attrs['content'].split(','))\n",
        "\n",
        "  # добавляем список категорий\n",
        "  category = []\n",
        "  for i in BeautifulSoup(rq.get(article).text, features=\"html.parser\").find_all('a'):\n",
        "    if i.get('rel') == ['category', 'tag']:\n",
        "      category.append(str(i.text))\n",
        "  data.append(category)\n",
        "\n",
        "  # добавляем текст статьи\n",
        "  article_text = ''\n",
        "  for i in BeautifulSoup(rq.get(article).text, features=\"html.parser\").find_all('p'):\n",
        "      article_text += i.text.strip()\n",
        "  data.append(article_text)\n",
        "\n",
        "  return data"
      ],
      "metadata": {
        "id": "E8iEHxY7DYq2"
      },
      "execution_count": 95,
      "outputs": []
    },
    {
      "cell_type": "code",
      "source": [
        "# тестируем на одной статье\n",
        "\n",
        "article_data(all_links[0])"
      ],
      "metadata": {
        "id": "kDRTmF5JQStb"
      },
      "execution_count": null,
      "outputs": []
    },
    {
      "cell_type": "code",
      "source": [
        "# собираем все новости!\n",
        "# полезно использовать try / except\n",
        "\n",
        "dataset = [] # в этот список будем собирать списки с данными по каждой статье\n",
        "for i in range(100):\n",
        "  try:\n",
        "    dataset.append(article_data(all_links[i]))\n",
        "  except:\n",
        "    print(f'Не работает со статьей {all_links[i]}')"
      ],
      "metadata": {
        "id": "Tp4tcVgGDeJs"
      },
      "execution_count": 96,
      "outputs": []
    },
    {
      "cell_type": "markdown",
      "source": [
        "### шаг 5"
      ],
      "metadata": {
        "id": "i2gKsPgUDkMf"
      }
    },
    {
      "cell_type": "code",
      "source": [
        "# соберите всю собранную информацию в датафрейм\n",
        "\n",
        "df = pd.DataFrame(dataset, columns=['URL', 'Date', 'Title', 'Authors', 'Categories', 'Text'])\n",
        "\n",
        "df"
      ],
      "metadata": {
        "id": "5Aj9qgg8DjiJ"
      },
      "execution_count": null,
      "outputs": []
    },
    {
      "cell_type": "code",
      "source": [
        "df.to_csv(\"sysblock_articles.csv\", encoding='utf-8')"
      ],
      "metadata": {
        "id": "q_fpJ3f1DqvX"
      },
      "execution_count": 98,
      "outputs": []
    },
    {
      "cell_type": "markdown",
      "source": [
        "Готово!\n",
        "Загрузите ваш код и собранные новости на GitHub"
      ],
      "metadata": {
        "id": "0lXQWScoDrFm"
      }
    }
  ]
}